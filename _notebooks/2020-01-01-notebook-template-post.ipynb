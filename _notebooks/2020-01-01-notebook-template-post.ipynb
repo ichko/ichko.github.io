{
 "cells": [
  {
   "cell_type": "raw",
   "metadata": {},
   "source": [
    "---\n",
    "layout: post\n",
    "title: \"Notebook template post\"\n",
    "date: 2020-01-01 21:39:01 +0200\n",
    "categories: neural networks, cppn, art\n",
    "---"
   ]
  },
  {
   "cell_type": "code",
   "execution_count": 1,
   "metadata": {},
   "outputs": [],
   "source": [
    "# exclude cell\n",
    "%load_ext autoreload\n",
    "%autoreload 2"
   ]
  },
  {
   "cell_type": "markdown",
   "metadata": {},
   "source": [
    "# Test\n",
    "\n",
    "ala bala\n",
    "\n",
    "- test\n",
    "- test4\n",
    "\n",
    "$\\sum_{i=1}^{k+1}i$"
   ]
  },
  {
   "cell_type": "code",
   "execution_count": 20,
   "metadata": {},
   "outputs": [],
   "source": [
    "# exclude code\n",
    "\n",
    "import numpy as np\n",
    "import matplotlib.pyplot as plt, mpld3\n",
    "\n",
    "mpld3.display()\n",
    "mpld3.enable_notebook()"
   ]
  },
  {
   "cell_type": "code",
   "execution_count": 21,
   "metadata": {},
   "outputs": [
    {
     "data": {
      "image/png": "[encoded data removed]",
      "text/html": [
       "\n",
       "\n",
       "<style>\n",
       "\n",
       "</style>\n",
       "\n",
       "<div id=\"fig_el155331396194241873449710658172\"></div>\n",
       "<script>\n",
       "function mpld3_load_lib(url, callback){\n",
       "  var s = document.createElement('script');\n",
       "  s.src = url;\n",
       "  s.async = true;\n",
       "  s.onreadystatechange = s.onload = callback;\n",
       "  s.onerror = function(){console.warn(\"failed to load library \" + url);};\n",
       "  document.getElementsByTagName(\"head\")[0].appendChild(s);\n",
       "}\n",
       "\n",
       "if(typeof(mpld3) !== \"undefined\" && mpld3._mpld3IsLoaded){\n",
       "   // already loaded: just create the figure\n",
       "   !function(mpld3){\n",
       "       \n",
       "       mpld3.draw_figure(\"fig_el155331396194241873449710658172\", {\"width\": 432.0, \"height\": 288.0, \"axes\": [{\"bbox\": [0.26083333333333336, 0.125, 0.5033333333333333, 0.755], \"xlim\": [-0.5, 9.5], \"ylim\": [9.5, -0.5], \"xdomain\": [-0.5, 9.5], \"ydomain\": [9.5, -0.5], \"xscale\": \"linear\", \"yscale\": \"linear\", \"axes\": [{\"position\": \"bottom\", \"nticks\": 7, \"tickvalues\": null, \"tickformat\": null, \"scale\": \"linear\", \"fontsize\": 10.0, \"grid\": {\"gridOn\": false}, \"visible\": true}, {\"position\": \"left\", \"nticks\": 7, \"tickvalues\": null, \"tickformat\": null, \"scale\": \"linear\", \"fontsize\": 10.0, \"grid\": {\"gridOn\": false}, \"visible\": true}], \"axesbg\": \"#FFFFFF\", \"axesbgalpha\": null, \"zoomable\": true, \"id\": \"el15533139619468700240\", \"lines\": [{\"data\": \"data01\", \"xindex\": 0, \"yindex\": 1, \"coordinates\": \"data\", \"id\": \"el15533139619424549648\", \"color\": \"#000000\", \"linewidth\": 1.5, \"dasharray\": \"none\", \"alpha\": 1, \"zorder\": 2, \"drawstyle\": \"default\"}], \"paths\": [], \"markers\": [{\"data\": \"data01\", \"xindex\": 0, \"yindex\": 1, \"coordinates\": \"data\", \"id\": \"el15533139619424549648pts\", \"facecolor\": \"#000000\", \"edgecolor\": \"#FFFFFF\", \"edgewidth\": 5, \"alpha\": 1, \"zorder\": 2, \"markerpath\": [[[-10.0, 10.0], [10.0, 10.0], [10.0, -10.0], [-10.0, -10.0]], [\"M\", \"L\", \"L\", \"L\", \"Z\"]]}], \"texts\": [], \"collections\": [], \"images\": [{\"data\": \"iVBORw0KGgoAAAANSUhEUgAAAAoAAAAKCAYAAACNMs+9AAAABHNCSVQICAgIfAhkiAAAAaFJREFUGJUFwVtIkwEAhuF3f9NER8NBXaS7KOu3hCDoABXSwLLCQlgQUWCjQgw6kTdZERQVMUg6ESLZwKBNBBm50iYboUUT1LaOxIywjRrVlrW6sMG+ngdHqlW9M806ujCj0NBORbxr5Fq/V+HYBqWd7xX90KS2fEQW/4sl0mgEm7mN6bwbi5EmaZ3hTP9rQgfn44ve4/L5KvA0Dmu22qs7z68qsgVZn/6RY2u7ykqPqfKmU1M9x+U2crKMbM9p09ouNh4yyAxW8SpwgJNLSzkxlmWiPIwmavhW3Ykx+WycPZtT/OoPUNN8jQFHI1b7Y8JmluFwgEBymmTJFSyekaBc/lqOjGZgnpN3UzbMWJYgAyx4EiKxeJIVDSaWwo7dUnmM6+taOGf/Qvp7luyiDvq6VmPvnePwpRZ85ieMpHGBs8t6cBfjBDsKVC43OfX5EXX7i/jqo7TPeWnqi8PLhod6+/Wj9uUGNb6qTYlEmd7U3lLr74RWxgzdP12nios3ZPl396eGdv3F2f0Dw1kg9eA2/tQsnopuMi4bJfVxip15/gO+7L7JBOcrOgAAAABJRU5ErkJggg==\", \"extent\": [-0.5, 9.5, 9.5, -0.5], \"coordinates\": \"data\", \"alpha\": null, \"zorder\": 0, \"id\": \"el15533139619423630928\"}], \"sharex\": [], \"sharey\": []}], \"data\": {\"data01\": [[0.0, 3.0], [1.0, 1.0], [2.0, 4.0], [3.0, 1.0], [4.0, 5.0]]}, \"id\": \"el15533139619424187344\", \"plugins\": [{\"type\": \"reset\"}, {\"type\": \"zoom\", \"button\": true, \"enabled\": false}, {\"type\": \"boxzoom\", \"button\": true, \"enabled\": false}]});\n",
       "   }(mpld3);\n",
       "}else if(typeof define === \"function\" && define.amd){\n",
       "   // require.js is available: use it to load d3/mpld3\n",
       "   require.config({paths: {d3: \"https://mpld3.github.io/js/d3.v3.min\"}});\n",
       "   require([\"d3\"], function(d3){\n",
       "      window.d3 = d3;\n",
       "      mpld3_load_lib(\"https://mpld3.github.io/js/mpld3.v0.3.js\", function(){\n",
       "         \n",
       "         mpld3.draw_figure(\"fig_el155331396194241873449710658172\", {\"width\": 432.0, \"height\": 288.0, \"axes\": [{\"bbox\": [0.26083333333333336, 0.125, 0.5033333333333333, 0.755], \"xlim\": [-0.5, 9.5], \"ylim\": [9.5, -0.5], \"xdomain\": [-0.5, 9.5], \"ydomain\": [9.5, -0.5], \"xscale\": \"linear\", \"yscale\": \"linear\", \"axes\": [{\"position\": \"bottom\", \"nticks\": 7, \"tickvalues\": null, \"tickformat\": null, \"scale\": \"linear\", \"fontsize\": 10.0, \"grid\": {\"gridOn\": false}, \"visible\": true}, {\"position\": \"left\", \"nticks\": 7, \"tickvalues\": null, \"tickformat\": null, \"scale\": \"linear\", \"fontsize\": 10.0, \"grid\": {\"gridOn\": false}, \"visible\": true}], \"axesbg\": \"#FFFFFF\", \"axesbgalpha\": null, \"zoomable\": true, \"id\": \"el15533139619468700240\", \"lines\": [{\"data\": \"data01\", \"xindex\": 0, \"yindex\": 1, \"coordinates\": \"data\", \"id\": \"el15533139619424549648\", \"color\": \"#000000\", \"linewidth\": 1.5, \"dasharray\": \"none\", \"alpha\": 1, \"zorder\": 2, \"drawstyle\": \"default\"}], \"paths\": [], \"markers\": [{\"data\": \"data01\", \"xindex\": 0, \"yindex\": 1, \"coordinates\": \"data\", \"id\": \"el15533139619424549648pts\", \"facecolor\": \"#000000\", \"edgecolor\": \"#FFFFFF\", \"edgewidth\": 5, \"alpha\": 1, \"zorder\": 2, \"markerpath\": [[[-10.0, 10.0], [10.0, 10.0], [10.0, -10.0], [-10.0, -10.0]], [\"M\", \"L\", \"L\", \"L\", \"Z\"]]}], \"texts\": [], \"collections\": [], \"images\": [{\"data\": \"iVBORw0KGgoAAAANSUhEUgAAAAoAAAAKCAYAAACNMs+9AAAABHNCSVQICAgIfAhkiAAAAaFJREFUGJUFwVtIkwEAhuF3f9NER8NBXaS7KOu3hCDoABXSwLLCQlgQUWCjQgw6kTdZERQVMUg6ESLZwKBNBBm50iYboUUT1LaOxIywjRrVlrW6sMG+ngdHqlW9M806ujCj0NBORbxr5Fq/V+HYBqWd7xX90KS2fEQW/4sl0mgEm7mN6bwbi5EmaZ3hTP9rQgfn44ve4/L5KvA0Dmu22qs7z68qsgVZn/6RY2u7ykqPqfKmU1M9x+U2crKMbM9p09ouNh4yyAxW8SpwgJNLSzkxlmWiPIwmavhW3Ykx+WycPZtT/OoPUNN8jQFHI1b7Y8JmluFwgEBymmTJFSyekaBc/lqOjGZgnpN3UzbMWJYgAyx4EiKxeJIVDSaWwo7dUnmM6+taOGf/Qvp7luyiDvq6VmPvnePwpRZ85ieMpHGBs8t6cBfjBDsKVC43OfX5EXX7i/jqo7TPeWnqi8PLhod6+/Wj9uUGNb6qTYlEmd7U3lLr74RWxgzdP12nios3ZPl396eGdv3F2f0Dw1kg9eA2/tQsnopuMi4bJfVxip15/gO+7L7JBOcrOgAAAABJRU5ErkJggg==\", \"extent\": [-0.5, 9.5, 9.5, -0.5], \"coordinates\": \"data\", \"alpha\": null, \"zorder\": 0, \"id\": \"el15533139619423630928\"}], \"sharex\": [], \"sharey\": []}], \"data\": {\"data01\": [[0.0, 3.0], [1.0, 1.0], [2.0, 4.0], [3.0, 1.0], [4.0, 5.0]]}, \"id\": \"el15533139619424187344\", \"plugins\": [{\"type\": \"reset\"}, {\"type\": \"zoom\", \"button\": true, \"enabled\": false}, {\"type\": \"boxzoom\", \"button\": true, \"enabled\": false}]});\n",
       "      });\n",
       "    });\n",
       "}else{\n",
       "    // require.js not available: dynamically load d3 & mpld3\n",
       "    mpld3_load_lib(\"https://mpld3.github.io/js/d3.v3.min.js\", function(){\n",
       "         mpld3_load_lib(\"https://mpld3.github.io/js/mpld3.v0.3.js\", function(){\n",
       "                 \n",
       "                 mpld3.draw_figure(\"fig_el155331396194241873449710658172\", {\"width\": 432.0, \"height\": 288.0, \"axes\": [{\"bbox\": [0.26083333333333336, 0.125, 0.5033333333333333, 0.755], \"xlim\": [-0.5, 9.5], \"ylim\": [9.5, -0.5], \"xdomain\": [-0.5, 9.5], \"ydomain\": [9.5, -0.5], \"xscale\": \"linear\", \"yscale\": \"linear\", \"axes\": [{\"position\": \"bottom\", \"nticks\": 7, \"tickvalues\": null, \"tickformat\": null, \"scale\": \"linear\", \"fontsize\": 10.0, \"grid\": {\"gridOn\": false}, \"visible\": true}, {\"position\": \"left\", \"nticks\": 7, \"tickvalues\": null, \"tickformat\": null, \"scale\": \"linear\", \"fontsize\": 10.0, \"grid\": {\"gridOn\": false}, \"visible\": true}], \"axesbg\": \"#FFFFFF\", \"axesbgalpha\": null, \"zoomable\": true, \"id\": \"el15533139619468700240\", \"lines\": [{\"data\": \"data01\", \"xindex\": 0, \"yindex\": 1, \"coordinates\": \"data\", \"id\": \"el15533139619424549648\", \"color\": \"#000000\", \"linewidth\": 1.5, \"dasharray\": \"none\", \"alpha\": 1, \"zorder\": 2, \"drawstyle\": \"default\"}], \"paths\": [], \"markers\": [{\"data\": \"data01\", \"xindex\": 0, \"yindex\": 1, \"coordinates\": \"data\", \"id\": \"el15533139619424549648pts\", \"facecolor\": \"#000000\", \"edgecolor\": \"#FFFFFF\", \"edgewidth\": 5, \"alpha\": 1, \"zorder\": 2, \"markerpath\": [[[-10.0, 10.0], [10.0, 10.0], [10.0, -10.0], [-10.0, -10.0]], [\"M\", \"L\", \"L\", \"L\", \"Z\"]]}], \"texts\": [], \"collections\": [], \"images\": [{\"data\": \"iVBORw0KGgoAAAANSUhEUgAAAAoAAAAKCAYAAACNMs+9AAAABHNCSVQICAgIfAhkiAAAAaFJREFUGJUFwVtIkwEAhuF3f9NER8NBXaS7KOu3hCDoABXSwLLCQlgQUWCjQgw6kTdZERQVMUg6ESLZwKBNBBm50iYboUUT1LaOxIywjRrVlrW6sMG+ngdHqlW9M806ujCj0NBORbxr5Fq/V+HYBqWd7xX90KS2fEQW/4sl0mgEm7mN6bwbi5EmaZ3hTP9rQgfn44ve4/L5KvA0Dmu22qs7z68qsgVZn/6RY2u7ykqPqfKmU1M9x+U2crKMbM9p09ouNh4yyAxW8SpwgJNLSzkxlmWiPIwmavhW3Ykx+WycPZtT/OoPUNN8jQFHI1b7Y8JmluFwgEBymmTJFSyekaBc/lqOjGZgnpN3UzbMWJYgAyx4EiKxeJIVDSaWwo7dUnmM6+taOGf/Qvp7luyiDvq6VmPvnePwpRZ85ieMpHGBs8t6cBfjBDsKVC43OfX5EXX7i/jqo7TPeWnqi8PLhod6+/Wj9uUGNb6qTYlEmd7U3lLr74RWxgzdP12nios3ZPl396eGdv3F2f0Dw1kg9eA2/tQsnopuMi4bJfVxip15/gO+7L7JBOcrOgAAAABJRU5ErkJggg==\", \"extent\": [-0.5, 9.5, 9.5, -0.5], \"coordinates\": \"data\", \"alpha\": null, \"zorder\": 0, \"id\": \"el15533139619423630928\"}], \"sharex\": [], \"sharey\": []}], \"data\": {\"data01\": [[0.0, 3.0], [1.0, 1.0], [2.0, 4.0], [3.0, 1.0], [4.0, 5.0]]}, \"id\": \"el15533139619424187344\", \"plugins\": [{\"type\": \"reset\"}, {\"type\": \"zoom\", \"button\": true, \"enabled\": false}, {\"type\": \"boxzoom\", \"button\": true, \"enabled\": false}]});\n",
       "            })\n",
       "         });\n",
       "}\n",
       "</script>"
      ],
      "text/plain": [
       "<Figure size 432x288 with 1 Axes>"
      ]
     },
     "metadata": {
      "needs_background": "light"
     },
     "output_type": "display_data"
    }
   ],
   "source": [
    "plt.plot([3,1,4,1,5], 'ks-', mec='w', mew=5, ms=20)\n",
    "plt.imshow(np.random.rand(10, 10, 3));"
   ]
  },
  {
   "cell_type": "markdown",
   "metadata": {},
   "source": [
    "```python\n",
    "import matplotlib.pyplot as plt, mpld3\n",
    "mpld3.enable_notebook()\n",
    "\n",
    "plt.plot([3,1,4,1,5], 'ks-', mec='w', mew=5, ms=20)\n",
    "plt.imshow(np.random.rand(10, 10, 3))\n",
    "mpld3.display()\n",
    "```"
   ]
  },
  {
   "cell_type": "code",
   "execution_count": 22,
   "metadata": {},
   "outputs": [
    {
     "data": {
      "text/html": [
       "<div>\n",
       "<style scoped>\n",
       "    .dataframe tbody tr th:only-of-type {\n",
       "        vertical-align: middle;\n",
       "    }\n",
       "\n",
       "    .dataframe tbody tr th {\n",
       "        vertical-align: top;\n",
       "    }\n",
       "\n",
       "    .dataframe thead th {\n",
       "        text-align: right;\n",
       "    }\n",
       "</style>\n",
       "<table border=\"1\" class=\"dataframe\">\n",
       "  <thead>\n",
       "    <tr style=\"text-align: right;\">\n",
       "      <th></th>\n",
       "      <th>a</th>\n",
       "      <th>b</th>\n",
       "    </tr>\n",
       "  </thead>\n",
       "  <tbody>\n",
       "    <tr>\n",
       "      <th>0</th>\n",
       "      <td>1</td>\n",
       "      <td>3</td>\n",
       "    </tr>\n",
       "    <tr>\n",
       "      <th>1</th>\n",
       "      <td>2</td>\n",
       "      <td>4</td>\n",
       "    </tr>\n",
       "  </tbody>\n",
       "</table>\n",
       "</div>"
      ],
      "text/plain": [
       "   a  b\n",
       "0  1  3\n",
       "1  2  4"
      ]
     },
     "execution_count": 22,
     "metadata": {},
     "output_type": "execute_result"
    }
   ],
   "source": [
    "import pandas as pd\n",
    "\n",
    "pd.DataFrame({'a':[1,2], 'b':[3,4]})"
   ]
  },
  {
   "cell_type": "code",
   "execution_count": 23,
   "metadata": {},
   "outputs": [
    {
     "data": {
      "application/javascript": [
       "\n",
       "        var nb = IPython.notebook\n",
       "        var kernel = IPython.notebook.kernel\n",
       "        var command = \"NOTEBOOK_FULL_PATH = '\" + nb.base_url + nb.notebook_path + \"'\"\n",
       "        kernel.execute(command)\n",
       "    "
      ],
      "text/plain": [
       "<IPython.core.display.Javascript object>"
      ]
     },
     "metadata": {},
     "output_type": "display_data"
    },
    {
     "data": {
      "text/plain": [
       "'/ichko.github.io/_notebooks/2020-01-01-notebook-template-post.ipynb'"
      ]
     },
     "execution_count": 23,
     "metadata": {},
     "output_type": "execute_result"
    }
   ],
   "source": [
    "# exclude cell\n",
    "\n",
    "import utils\n",
    "\n",
    "utils.set_global_notebook_name()\n",
    "utils.post_this_notebook(NOTEBOOK_FULL_PATH, draft=True)\n",
    "NOTEBOOK_FULL_PATH"
   ]
  },
  {
   "cell_type": "markdown",
   "metadata": {},
   "source": [
    "---"
   ]
  },
  {
   "cell_type": "code",
   "execution_count": null,
   "metadata": {},
   "outputs": [],
   "source": []
  }
 ],
 "metadata": {
  "kernelspec": {
   "display_name": "Python 3.7.5 64-bit ('base': conda)",
   "language": "python",
   "name": "python37564bitbaseconda450f1bc47f8a4f9f9c4b21d2d568ed8a"
  },
  "language_info": {
   "codemirror_mode": {
    "name": "ipython",
    "version": 3
   },
   "file_extension": ".py",
   "mimetype": "text/x-python",
   "name": "python",
   "nbconvert_exporter": "python",
   "pygments_lexer": "ipython3",
   "version": "3.7.5"
  }
 },
 "nbformat": 4,
 "nbformat_minor": 2
}
