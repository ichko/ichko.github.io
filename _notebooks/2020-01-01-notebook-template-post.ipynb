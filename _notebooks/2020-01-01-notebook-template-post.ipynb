{
 "cells": [
  {
   "cell_type": "raw",
   "metadata": {},
   "source": [
    "---\n",
    "layout: post\n",
    "title: \"Notebook template post\"\n",
    "date: 2020-01-01 21:39:01 +0200\n",
    "categories: neural networks, cppn, art\n",
    "---"
   ]
  },
  {
   "cell_type": "code",
   "execution_count": 137,
   "metadata": {
    "ExecuteTime": {
     "end_time": "2020-04-04T09:24:31.213020Z",
     "start_time": "2020-04-04T09:24:31.197047Z"
    }
   },
   "outputs": [
    {
     "name": "stdout",
     "output_type": "stream",
     "text": [
      "The autoreload extension is already loaded. To reload it, use:\n",
      "  %reload_ext autoreload\n"
     ]
    }
   ],
   "source": [
    "# exclude cell\n",
    "\n",
    "%load_ext autoreload\n",
    "%autoreload 2"
   ]
  },
  {
   "cell_type": "code",
   "execution_count": 138,
   "metadata": {
    "ExecuteTime": {
     "end_time": "2020-04-04T09:24:31.404375Z",
     "start_time": "2020-04-04T09:24:31.391694Z"
    },
    "code_folding": [],
    "hide_input": true
   },
   "outputs": [
    {
     "data": {
      "text/html": [
       "\n",
       "<style>\n",
       "    p.red { background: red;}\n",
       "</style>\n"
      ],
      "text/plain": [
       "<IPython.core.display.HTML object>"
      ]
     },
     "metadata": {},
     "output_type": "display_data"
    }
   ],
   "source": [
    "%%html\n",
    "\n",
    "<style>\n",
    "    p.red { background: red;}\n",
    "</style>"
   ]
  },
  {
   "cell_type": "markdown",
   "metadata": {
    "ExecuteTime": {
     "end_time": "2020-04-04T01:46:19.374239Z",
     "start_time": "2020-04-04T01:46:19.371242Z"
    }
   },
   "source": [
    "<p class='red'>red</p>"
   ]
  },
  {
   "cell_type": "markdown",
   "metadata": {},
   "source": [
    "# Test\n",
    "\n",
    "ala bala\n",
    "\n",
    "- test\n",
    "- test4\n",
    "\n",
    "$\\sum_{i=1}^{k+1}i$"
   ]
  },
  {
   "cell_type": "code",
   "execution_count": 190,
   "metadata": {
    "ExecuteTime": {
     "end_time": "2020-04-04T09:35:59.524820Z",
     "start_time": "2020-04-04T09:35:59.510577Z"
    }
   },
   "outputs": [
    {
     "data": {
      "application/javascript": [
       "\n",
       "element.text('test')\n"
      ],
      "text/plain": [
       "<IPython.core.display.Javascript object>"
      ]
     },
     "metadata": {},
     "output_type": "display_data"
    }
   ],
   "source": [
    "%%javascript\n",
    "\n",
    "element.text('test')"
   ]
  },
  {
   "cell_type": "code",
   "execution_count": 191,
   "metadata": {
    "ExecuteTime": {
     "end_time": "2020-04-04T09:35:59.803474Z",
     "start_time": "2020-04-04T09:35:59.791213Z"
    }
   },
   "outputs": [
    {
     "data": {
      "application/javascript": [
       "\n",
       "require.undef('aaa');\n",
       "define('aaa', [], function() {\n",
       "    return {\n",
       "        a: () => alert(5),\n",
       "    };\n",
       "});\n"
      ],
      "text/plain": [
       "<IPython.core.display.Javascript object>"
      ]
     },
     "metadata": {},
     "output_type": "display_data"
    }
   ],
   "source": [
    "%%javascript\n",
    "\n",
    "require.undef('aaa');\n",
    "define('aaa', [], function() {\n",
    "    return {\n",
    "        a: () => alert(5),\n",
    "    };\n",
    "});"
   ]
  },
  {
   "cell_type": "code",
   "execution_count": 192,
   "metadata": {
    "ExecuteTime": {
     "end_time": "2020-04-04T09:36:00.058649Z",
     "start_time": "2020-04-04T09:36:00.046034Z"
    }
   },
   "outputs": [
    {
     "data": {
      "application/javascript": [
       "\n",
       "require(['aaa'], function(a) {\n",
       "    a.a();\n",
       "});\n"
      ],
      "text/plain": [
       "<IPython.core.display.Javascript object>"
      ]
     },
     "metadata": {},
     "output_type": "display_data"
    }
   ],
   "source": [
    "%%javascript\n",
    "\n",
    "require(['aaa'], function(a) {\n",
    "    a.a();\n",
    "});"
   ]
  },
  {
   "cell_type": "code",
   "execution_count": 193,
   "metadata": {
    "ExecuteTime": {
     "end_time": "2020-04-04T09:36:00.403141Z",
     "start_time": "2020-04-04T09:36:00.382361Z"
    },
    "cell_style": "center",
    "hide_input": false
   },
   "outputs": [],
   "source": [
    "import numpy as np\n",
    "import matplotlib.pyplot as plt, mpld3\n",
    "\n",
    "mpld3.display()\n",
    "mpld3.enable_notebook()"
   ]
  },
  {
   "cell_type": "code",
   "execution_count": 194,
   "metadata": {
    "ExecuteTime": {
     "end_time": "2020-04-04T09:36:00.905010Z",
     "start_time": "2020-04-04T09:36:00.774778Z"
    },
    "cell_style": "center",
    "hide_input": false
   },
   "outputs": [
    {
     "data": {
      "image/png": "[encoded data removed]",
      "text/html": [
       "\n",
       "\n",
       "<style>\n",
       "\n",
       "</style>\n",
       "\n",
       "<div id=\"fig_el24501396194223956648170976820\"></div>\n",
       "<script>\n",
       "function mpld3_load_lib(url, callback){\n",
       "  var s = document.createElement('script');\n",
       "  s.src = url;\n",
       "  s.async = true;\n",
       "  s.onreadystatechange = s.onload = callback;\n",
       "  s.onerror = function(){console.warn(\"failed to load library \" + url);};\n",
       "  document.getElementsByTagName(\"head\")[0].appendChild(s);\n",
       "}\n",
       "\n",
       "if(typeof(mpld3) !== \"undefined\" && mpld3._mpld3IsLoaded){\n",
       "   // already loaded: just create the figure\n",
       "   !function(mpld3){\n",
       "       \n",
       "       mpld3.draw_figure(\"fig_el24501396194223956648170976820\", {\"width\": 432.0, \"height\": 288.0, \"axes\": [{\"bbox\": [0.26083333333333336, 0.125, 0.5033333333333333, 0.755], \"xlim\": [-0.5, 9.5], \"ylim\": [9.5, -0.5], \"xdomain\": [-0.5, 9.5], \"ydomain\": [9.5, -0.5], \"xscale\": \"linear\", \"yscale\": \"linear\", \"axes\": [{\"position\": \"bottom\", \"nticks\": 7, \"tickvalues\": null, \"tickformat\": null, \"scale\": \"linear\", \"fontsize\": 10.0, \"grid\": {\"gridOn\": false}, \"visible\": true}, {\"position\": \"left\", \"nticks\": 7, \"tickvalues\": null, \"tickformat\": null, \"scale\": \"linear\", \"fontsize\": 10.0, \"grid\": {\"gridOn\": false}, \"visible\": true}], \"axesbg\": \"#FFFFFF\", \"axesbgalpha\": null, \"zoomable\": true, \"id\": \"el2450139619401162000\", \"lines\": [{\"data\": \"data01\", \"xindex\": 0, \"yindex\": 1, \"coordinates\": \"data\", \"id\": \"el2450139619397903760\", \"color\": \"#000000\", \"linewidth\": 1.5, \"dasharray\": \"none\", \"alpha\": 1, \"zorder\": 2, \"drawstyle\": \"default\"}], \"paths\": [], \"markers\": [{\"data\": \"data01\", \"xindex\": 0, \"yindex\": 1, \"coordinates\": \"data\", \"id\": \"el2450139619397903760pts\", \"facecolor\": \"#000000\", \"edgecolor\": \"#FFFFFF\", \"edgewidth\": 5, \"alpha\": 1, \"zorder\": 2, \"markerpath\": [[[-10.0, 10.0], [10.0, 10.0], [10.0, -10.0], [-10.0, -10.0]], [\"M\", \"L\", \"L\", \"L\", \"Z\"]]}], \"texts\": [], \"collections\": [], \"images\": [{\"data\": \"iVBORw0KGgoAAAANSUhEUgAAAAoAAAAKCAYAAACNMs+9AAAABHNCSVQICAgIfAhkiAAAAaJJREFUGJUFwXso3AEAB/DvnbtxncuO5j9D5/HHOGHhD4prXkXeE1IiNcnaXMgrdk3WkPJKpNA5/nDSQmtK/OEVWx6XSUzYTbvf8rqLw/L1+YgO336lfa0YTZU+UG+lwPy6FM67NoS1XeGkPBwRHSsYyU0AsutfMXymn/+t/yg9CWWMqIALneCQ8JkX5dFcsuuYv3dBSYa7HmVdRoyczsO0JoXeQ4axiRuUCCps1CXC7b4ApvtSwD+vlasZfTSfX9JLZKTq1IF3gpFLhgAWph7Qt3eQnwY8idxrDR0iVxmducytdEeqXSXsDK1gteMNY7MC+VfRyDu/boqP5LEYGPyOyWfxKIkTI/vbbwT9+YWD3WSotVbEaIuw0rMPaNIWuZ7kTqlpilWqHDpF2Tk5+oEvnyjZBG/Ov3Gh4kcvxZKZQ2wKOiy2BOMotRbNOyEwjGchrF4Bz2MLLuUJkCutgKzCQmFfQv32Dqs1z2loX2aD7Atlzu84XXjL905lbGmzUBTfn0ZNHjD7dA666WGYO5T4mOyKFw9+CK75CZvWDc22MzwCQxTJA65UjkkAAAAASUVORK5CYII=\", \"extent\": [-0.5, 9.5, 9.5, -0.5], \"coordinates\": \"data\", \"alpha\": null, \"zorder\": 0, \"id\": \"el2450139619422730000\"}], \"sharex\": [], \"sharey\": []}], \"data\": {\"data01\": [[0.0, 3.0], [1.0, 1.0], [2.0, 4.0], [3.0, 1.0], [4.0, 5.0]]}, \"id\": \"el2450139619422395664\", \"plugins\": [{\"type\": \"reset\"}, {\"type\": \"zoom\", \"button\": true, \"enabled\": false}, {\"type\": \"boxzoom\", \"button\": true, \"enabled\": false}]});\n",
       "   }(mpld3);\n",
       "}else if(typeof define === \"function\" && define.amd){\n",
       "   // require.js is available: use it to load d3/mpld3\n",
       "   require.config({paths: {d3: \"https://mpld3.github.io/js/d3.v3.min\"}});\n",
       "   require([\"d3\"], function(d3){\n",
       "      window.d3 = d3;\n",
       "      mpld3_load_lib(\"https://mpld3.github.io/js/mpld3.v0.3.js\", function(){\n",
       "         \n",
       "         mpld3.draw_figure(\"fig_el24501396194223956648170976820\", {\"width\": 432.0, \"height\": 288.0, \"axes\": [{\"bbox\": [0.26083333333333336, 0.125, 0.5033333333333333, 0.755], \"xlim\": [-0.5, 9.5], \"ylim\": [9.5, -0.5], \"xdomain\": [-0.5, 9.5], \"ydomain\": [9.5, -0.5], \"xscale\": \"linear\", \"yscale\": \"linear\", \"axes\": [{\"position\": \"bottom\", \"nticks\": 7, \"tickvalues\": null, \"tickformat\": null, \"scale\": \"linear\", \"fontsize\": 10.0, \"grid\": {\"gridOn\": false}, \"visible\": true}, {\"position\": \"left\", \"nticks\": 7, \"tickvalues\": null, \"tickformat\": null, \"scale\": \"linear\", \"fontsize\": 10.0, \"grid\": {\"gridOn\": false}, \"visible\": true}], \"axesbg\": \"#FFFFFF\", \"axesbgalpha\": null, \"zoomable\": true, \"id\": \"el2450139619401162000\", \"lines\": [{\"data\": \"data01\", \"xindex\": 0, \"yindex\": 1, \"coordinates\": \"data\", \"id\": \"el2450139619397903760\", \"color\": \"#000000\", \"linewidth\": 1.5, \"dasharray\": \"none\", \"alpha\": 1, \"zorder\": 2, \"drawstyle\": \"default\"}], \"paths\": [], \"markers\": [{\"data\": \"data01\", \"xindex\": 0, \"yindex\": 1, \"coordinates\": \"data\", \"id\": \"el2450139619397903760pts\", \"facecolor\": \"#000000\", \"edgecolor\": \"#FFFFFF\", \"edgewidth\": 5, \"alpha\": 1, \"zorder\": 2, \"markerpath\": [[[-10.0, 10.0], [10.0, 10.0], [10.0, -10.0], [-10.0, -10.0]], [\"M\", \"L\", \"L\", \"L\", \"Z\"]]}], \"texts\": [], \"collections\": [], \"images\": [{\"data\": \"iVBORw0KGgoAAAANSUhEUgAAAAoAAAAKCAYAAACNMs+9AAAABHNCSVQICAgIfAhkiAAAAaJJREFUGJUFwXso3AEAB/DvnbtxncuO5j9D5/HHOGHhD4prXkXeE1IiNcnaXMgrdk3WkPJKpNA5/nDSQmtK/OEVWx6XSUzYTbvf8rqLw/L1+YgO336lfa0YTZU+UG+lwPy6FM67NoS1XeGkPBwRHSsYyU0AsutfMXymn/+t/yg9CWWMqIALneCQ8JkX5dFcsuuYv3dBSYa7HmVdRoyczsO0JoXeQ4axiRuUCCps1CXC7b4ApvtSwD+vlasZfTSfX9JLZKTq1IF3gpFLhgAWph7Qt3eQnwY8idxrDR0iVxmducytdEeqXSXsDK1gteMNY7MC+VfRyDu/boqP5LEYGPyOyWfxKIkTI/vbbwT9+YWD3WSotVbEaIuw0rMPaNIWuZ7kTqlpilWqHDpF2Tk5+oEvnyjZBG/Ov3Gh4kcvxZKZQ2wKOiy2BOMotRbNOyEwjGchrF4Bz2MLLuUJkCutgKzCQmFfQv32Dqs1z2loX2aD7Atlzu84XXjL905lbGmzUBTfn0ZNHjD7dA666WGYO5T4mOyKFw9+CK75CZvWDc22MzwCQxTJA65UjkkAAAAASUVORK5CYII=\", \"extent\": [-0.5, 9.5, 9.5, -0.5], \"coordinates\": \"data\", \"alpha\": null, \"zorder\": 0, \"id\": \"el2450139619422730000\"}], \"sharex\": [], \"sharey\": []}], \"data\": {\"data01\": [[0.0, 3.0], [1.0, 1.0], [2.0, 4.0], [3.0, 1.0], [4.0, 5.0]]}, \"id\": \"el2450139619422395664\", \"plugins\": [{\"type\": \"reset\"}, {\"type\": \"zoom\", \"button\": true, \"enabled\": false}, {\"type\": \"boxzoom\", \"button\": true, \"enabled\": false}]});\n",
       "      });\n",
       "    });\n",
       "}else{\n",
       "    // require.js not available: dynamically load d3 & mpld3\n",
       "    mpld3_load_lib(\"https://mpld3.github.io/js/d3.v3.min.js\", function(){\n",
       "         mpld3_load_lib(\"https://mpld3.github.io/js/mpld3.v0.3.js\", function(){\n",
       "                 \n",
       "                 mpld3.draw_figure(\"fig_el24501396194223956648170976820\", {\"width\": 432.0, \"height\": 288.0, \"axes\": [{\"bbox\": [0.26083333333333336, 0.125, 0.5033333333333333, 0.755], \"xlim\": [-0.5, 9.5], \"ylim\": [9.5, -0.5], \"xdomain\": [-0.5, 9.5], \"ydomain\": [9.5, -0.5], \"xscale\": \"linear\", \"yscale\": \"linear\", \"axes\": [{\"position\": \"bottom\", \"nticks\": 7, \"tickvalues\": null, \"tickformat\": null, \"scale\": \"linear\", \"fontsize\": 10.0, \"grid\": {\"gridOn\": false}, \"visible\": true}, {\"position\": \"left\", \"nticks\": 7, \"tickvalues\": null, \"tickformat\": null, \"scale\": \"linear\", \"fontsize\": 10.0, \"grid\": {\"gridOn\": false}, \"visible\": true}], \"axesbg\": \"#FFFFFF\", \"axesbgalpha\": null, \"zoomable\": true, \"id\": \"el2450139619401162000\", \"lines\": [{\"data\": \"data01\", \"xindex\": 0, \"yindex\": 1, \"coordinates\": \"data\", \"id\": \"el2450139619397903760\", \"color\": \"#000000\", \"linewidth\": 1.5, \"dasharray\": \"none\", \"alpha\": 1, \"zorder\": 2, \"drawstyle\": \"default\"}], \"paths\": [], \"markers\": [{\"data\": \"data01\", \"xindex\": 0, \"yindex\": 1, \"coordinates\": \"data\", \"id\": \"el2450139619397903760pts\", \"facecolor\": \"#000000\", \"edgecolor\": \"#FFFFFF\", \"edgewidth\": 5, \"alpha\": 1, \"zorder\": 2, \"markerpath\": [[[-10.0, 10.0], [10.0, 10.0], [10.0, -10.0], [-10.0, -10.0]], [\"M\", \"L\", \"L\", \"L\", \"Z\"]]}], \"texts\": [], \"collections\": [], \"images\": [{\"data\": \"iVBORw0KGgoAAAANSUhEUgAAAAoAAAAKCAYAAACNMs+9AAAABHNCSVQICAgIfAhkiAAAAaJJREFUGJUFwXso3AEAB/DvnbtxncuO5j9D5/HHOGHhD4prXkXeE1IiNcnaXMgrdk3WkPJKpNA5/nDSQmtK/OEVWx6XSUzYTbvf8rqLw/L1+YgO336lfa0YTZU+UG+lwPy6FM67NoS1XeGkPBwRHSsYyU0AsutfMXymn/+t/yg9CWWMqIALneCQ8JkX5dFcsuuYv3dBSYa7HmVdRoyczsO0JoXeQ4axiRuUCCps1CXC7b4ApvtSwD+vlasZfTSfX9JLZKTq1IF3gpFLhgAWph7Qt3eQnwY8idxrDR0iVxmducytdEeqXSXsDK1gteMNY7MC+VfRyDu/boqP5LEYGPyOyWfxKIkTI/vbbwT9+YWD3WSotVbEaIuw0rMPaNIWuZ7kTqlpilWqHDpF2Tk5+oEvnyjZBG/Ov3Gh4kcvxZKZQ2wKOiy2BOMotRbNOyEwjGchrF4Bz2MLLuUJkCutgKzCQmFfQv32Dqs1z2loX2aD7Atlzu84XXjL905lbGmzUBTfn0ZNHjD7dA666WGYO5T4mOyKFw9+CK75CZvWDc22MzwCQxTJA65UjkkAAAAASUVORK5CYII=\", \"extent\": [-0.5, 9.5, 9.5, -0.5], \"coordinates\": \"data\", \"alpha\": null, \"zorder\": 0, \"id\": \"el2450139619422730000\"}], \"sharex\": [], \"sharey\": []}], \"data\": {\"data01\": [[0.0, 3.0], [1.0, 1.0], [2.0, 4.0], [3.0, 1.0], [4.0, 5.0]]}, \"id\": \"el2450139619422395664\", \"plugins\": [{\"type\": \"reset\"}, {\"type\": \"zoom\", \"button\": true, \"enabled\": false}, {\"type\": \"boxzoom\", \"button\": true, \"enabled\": false}]});\n",
       "            })\n",
       "         });\n",
       "}\n",
       "</script>"
      ],
      "text/plain": [
       "<Figure size 432x288 with 1 Axes>"
      ]
     },
     "metadata": {
      "needs_background": "light"
     },
     "output_type": "display_data"
    }
   ],
   "source": [
    "plt.plot([3,1,4,1,5], 'ks-', mec='w', mew=5, ms=20)\n",
    "plt.imshow(np.random.rand(10, 10, 3));"
   ]
  },
  {
   "cell_type": "markdown",
   "metadata": {},
   "source": [
    "```python\n",
    "import matplotlib.pyplot as plt, mpld3\n",
    "mpld3.enable_notebook()\n",
    "\n",
    "plt.plot([3,1,4,1,5], 'ks-', mec='w', mew=5, ms=20)\n",
    "plt.imshow(np.random.rand(10, 10, 3))\n",
    "mpld3.display()\n",
    "```"
   ]
  },
  {
   "cell_type": "code",
   "execution_count": 195,
   "metadata": {
    "ExecuteTime": {
     "end_time": "2020-04-04T09:36:01.333396Z",
     "start_time": "2020-04-04T09:36:01.321346Z"
    }
   },
   "outputs": [
    {
     "data": {
      "text/html": [
       "<div>\n",
       "<style scoped>\n",
       "    .dataframe tbody tr th:only-of-type {\n",
       "        vertical-align: middle;\n",
       "    }\n",
       "\n",
       "    .dataframe tbody tr th {\n",
       "        vertical-align: top;\n",
       "    }\n",
       "\n",
       "    .dataframe thead th {\n",
       "        text-align: right;\n",
       "    }\n",
       "</style>\n",
       "<table border=\"1\" class=\"dataframe\">\n",
       "  <thead>\n",
       "    <tr style=\"text-align: right;\">\n",
       "      <th></th>\n",
       "      <th>a</th>\n",
       "      <th>b</th>\n",
       "    </tr>\n",
       "  </thead>\n",
       "  <tbody>\n",
       "    <tr>\n",
       "      <th>0</th>\n",
       "      <td>1</td>\n",
       "      <td>3</td>\n",
       "    </tr>\n",
       "    <tr>\n",
       "      <th>1</th>\n",
       "      <td>2</td>\n",
       "      <td>4</td>\n",
       "    </tr>\n",
       "  </tbody>\n",
       "</table>\n",
       "</div>"
      ],
      "text/plain": [
       "   a  b\n",
       "0  1  3\n",
       "1  2  4"
      ]
     },
     "execution_count": 195,
     "metadata": {},
     "output_type": "execute_result"
    }
   ],
   "source": [
    "import pandas as pd\n",
    "\n",
    "pd.DataFrame({'a':[1,2], 'b':[3,4]})"
   ]
  },
  {
   "cell_type": "code",
   "execution_count": 196,
   "metadata": {
    "ExecuteTime": {
     "end_time": "2020-04-04T09:36:01.627431Z",
     "start_time": "2020-04-04T09:36:01.614389Z"
    }
   },
   "outputs": [
    {
     "data": {
      "text/plain": [
       "False"
      ]
     },
     "execution_count": 196,
     "metadata": {},
     "output_type": "execute_result"
    }
   ],
   "source": [
    "{'a':2}.get('b', False)"
   ]
  },
  {
   "cell_type": "code",
   "execution_count": 197,
   "metadata": {
    "ExecuteTime": {
     "end_time": "2020-04-04T09:36:01.993841Z",
     "start_time": "2020-04-04T09:36:01.878739Z"
    }
   },
   "outputs": [
    {
     "data": {
      "application/javascript": [
       "\n",
       "        var nb = IPython.notebook\n",
       "        var kernel = IPython.notebook.kernel\n",
       "        var command = \"NOTEBOOK_FULL_PATH = '\" + nb.base_url + nb.notebook_path + \"'\"\n",
       "        kernel.execute(command)\n",
       "    "
      ],
      "text/plain": [
       "<IPython.core.display.Javascript object>"
      ]
     },
     "metadata": {},
     "output_type": "display_data"
    },
    {
     "data": {
      "application/javascript": [
       "\n",
       "        IPython.notebook.save_notebook();\n",
       "    "
      ],
      "text/plain": [
       "<IPython.core.display.Javascript object>"
      ]
     },
     "metadata": {},
     "output_type": "display_data"
    },
    {
     "data": {
      "text/plain": [
       "'/ichko.github.io/_notebooks/2020-01-01-notebook-template-post.ipynb'"
      ]
     },
     "execution_count": 197,
     "metadata": {},
     "output_type": "execute_result"
    }
   ],
   "source": [
    "# exclude cell\n",
    "\n",
    "import utils\n",
    "\n",
    "utils.set_global_notebook_name()\n",
    "utils.post_this_notebook(NOTEBOOK_FULL_PATH, draft=True)\n",
    "NOTEBOOK_FULL_PATH"
   ]
  },
  {
   "cell_type": "markdown",
   "metadata": {},
   "source": [
    "---"
   ]
  },
  {
   "cell_type": "code",
   "execution_count": null,
   "metadata": {},
   "outputs": [],
   "source": []
  }
 ],
 "metadata": {
  "kernelspec": {
   "display_name": "Python 3.7.5 64-bit ('base': conda)",
   "language": "python",
   "name": "python37564bitbaseconda450f1bc47f8a4f9f9c4b21d2d568ed8a"
  },
  "language_info": {
   "codemirror_mode": {
    "name": "ipython",
    "version": 3
   },
   "file_extension": ".py",
   "mimetype": "text/x-python",
   "name": "python",
   "nbconvert_exporter": "python",
   "pygments_lexer": "ipython3",
   "version": "3.7.5"
  },
  "toc": {
   "base_numbering": 1,
   "nav_menu": {
    "height": "213px",
    "width": "422px"
   },
   "number_sections": true,
   "sideBar": true,
   "skip_h1_title": false,
   "title_cell": "Table of Contents",
   "title_sidebar": "Contents",
   "toc_cell": false,
   "toc_position": {
    "height": "calc(100% - 180px)",
    "left": "10px",
    "top": "150px",
    "width": "349.594px"
   },
   "toc_section_display": true,
   "toc_window_display": true
  },
  "varInspector": {
   "cols": {
    "lenName": 16,
    "lenType": 16,
    "lenVar": 40
   },
   "kernels_config": {
    "python": {
     "delete_cmd_postfix": "",
     "delete_cmd_prefix": "del ",
     "library": "var_list.py",
     "varRefreshCmd": "print(var_dic_list())"
    },
    "r": {
     "delete_cmd_postfix": ") ",
     "delete_cmd_prefix": "rm(",
     "library": "var_list.r",
     "varRefreshCmd": "cat(var_dic_list()) "
    }
   },
   "position": {
    "height": "1141px",
    "left": "2103px",
    "right": "20px",
    "top": "146px",
    "width": "352px"
   },
   "types_to_exclude": [
    "module",
    "function",
    "builtin_function_or_method",
    "instance",
    "_Feature"
   ],
   "window_display": true
  }
 },
 "nbformat": 4,
 "nbformat_minor": 2
}
